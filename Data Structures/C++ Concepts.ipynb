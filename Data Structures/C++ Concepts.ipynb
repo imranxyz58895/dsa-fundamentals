{
 "cells": [
  {
   "cell_type": "code",
   "execution_count": 1,
   "metadata": {},
   "outputs": [],
   "source": [
    "#include <stdio.h>"
   ]
  },
  {
   "cell_type": "code",
   "execution_count": 2,
   "metadata": {},
   "outputs": [
    {
     "name": "stdout",
     "output_type": "stream",
     "text": [
      "Hello World"
     ]
    }
   ],
   "source": [
    "printf(\"Hello World\");"
   ]
  },
  {
   "cell_type": "markdown",
   "metadata": {},
   "source": [
    "## Arrays"
   ]
  },
  {
   "cell_type": "markdown",
   "metadata": {},
   "source": [
    "Arrays is defined as collcection of similiar elements.\n",
    "\n",
    "Arrays in memory\n",
    "\n",
    "![arrays-memory](https://i.ibb.co/N9VM7Wj/image.png)"
   ]
  },
  {
   "cell_type": "code",
   "execution_count": 3,
   "metadata": {},
   "outputs": [
    {
     "name": "stdout",
     "output_type": "stream",
     "text": [
      "4 5 6 8 9 \n",
      "10 11 12 "
     ]
    }
   ],
   "source": [
    "// declare the array\n",
    "int A[5];\n",
    "A[0] = 4;\n",
    "A[1] = 5;\n",
    "A[3] = 8;\n",
    "A[4] = 9;\n",
    "A[2] = 6;\n",
    "\n",
    "// declare and initialize the array\n",
    "int B[] = {10, 11, 12};\n",
    "\n",
    "// Accessing the elements of the array\n",
    "for (int i = 0; i < 5; i++) {\n",
    "    printf(\"%d \", A[i]);\n",
    "}\n",
    "\n",
    "printf(\"\\n\");\n",
    "\n",
    "for (int i = 0; i < 3; i++) {\n",
    "    printf(\"%d \", B[i]);\n",
    "}"
   ]
  },
  {
   "cell_type": "markdown",
   "metadata": {},
   "source": [
    "## Struct\n",
    "\n",
    "Collectiion of different data members, Those data members can be different types.\n",
    "\n",
    "![](https://i.ibb.co/zmvWGwN/image.png)\n"
   ]
  },
  {
   "cell_type": "code",
   "execution_count": 4,
   "metadata": {},
   "outputs": [],
   "source": [
    "struct Rectangle {\n",
    "    int length;\n",
    "    int breadth;\n",
    "};"
   ]
  },
  {
   "cell_type": "markdown",
   "metadata": {},
   "source": [
    "This `Rectange` doesn't occupy any space in memory, It will be occupied memory once it is declared or initialized."
   ]
  },
  {
   "cell_type": "code",
   "execution_count": 5,
   "metadata": {},
   "outputs": [
    {
     "name": "stdout",
     "output_type": "stream",
     "text": [
      "Rectangle length is 10 and breadth is 5"
     ]
    }
   ],
   "source": [
    "// declare the struct\n",
    "struct Rectangle r;\n",
    "r.length = 10;\n",
    "r.breadth = 5;\n",
    "\n",
    "printf(\"Rectangle length is %d and breadth is %d\", r.length, r.breadth);"
   ]
  },
  {
   "cell_type": "code",
   "execution_count": 6,
   "metadata": {},
   "outputs": [
    {
     "name": "stdout",
     "output_type": "stream",
     "text": [
      "Rectangle length is 15 and breadth is 10.\n",
      "Area of rectangle is 150."
     ]
    }
   ],
   "source": [
    "// declare and initialize struct\n",
    "struct Rectangle r1 = {15, 10};\n",
    "\n",
    "printf(\"Rectangle length is %d and breadth is %d.\\n\", r1.length, r1.breadth);\n",
    "printf(\"Area of rectangle is %d.\", r1.length*r1.breadth);"
   ]
  },
  {
   "cell_type": "markdown",
   "metadata": {},
   "source": [
    "### Struct Examples"
   ]
  },
  {
   "cell_type": "code",
   "execution_count": 7,
   "metadata": {},
   "outputs": [],
   "source": [
    "// Complex number is a + bi where i = √(−1)\n",
    "struct Complex { \n",
    "    int realPart;\n",
    "    int imaginaryPart;\n",
    "};"
   ]
  },
  {
   "cell_type": "code",
   "execution_count": 8,
   "metadata": {},
   "outputs": [
    {
     "name": "stdout",
     "output_type": "stream",
     "text": [
      "Department is CSE"
     ]
    }
   ],
   "source": [
    "struct Student {\n",
    "    int rollNumber;\n",
    "    char name[50];\n",
    "    char department[10];\n",
    "    char address[50];\n",
    "};\n",
    "\n",
    "struct Student Rohit = {15, \"Rohit\", \"CSE\", \"Dhaka\"};\n",
    "printf(\"Department is %s\", Rohit.department);"
   ]
  },
  {
   "cell_type": "code",
   "execution_count": 9,
   "metadata": {},
   "outputs": [
    {
     "name": "stdout",
     "output_type": "stream",
     "text": [
      "Face is 0\n",
      "Shape is 1\n",
      "Color is 0"
     ]
    }
   ],
   "source": [
    "struct Card {\n",
    "    int face;\n",
    "    int shape;\n",
    "    int color;\n",
    "};\n",
    "\n",
    "struct Card deck = {1, 0, 0};\n",
    "\n",
    "// deck of cards\n",
    "struct Card decks[1]; // arrays of struct\n",
    "decks[0] = {1, 0, 0};\n",
    "\n",
    "struct Card decks2[2] = {{1, 0, 0}, {0, 1, 0}};\n",
    "printf(\"Face is %d\\n\", decks2[1].face);\n",
    "printf(\"Shape is %d\\n\", decks2[1].shape);\n",
    "printf(\"Color is %d\", decks2[1].color);"
   ]
  },
  {
   "cell_type": "markdown",
   "metadata": {},
   "source": [
    "## Pointers\n",
    "\n",
    "Pointer is an address variable that is meant for storing address of data not data itself.\n",
    "\n",
    "Programes can directly access `Stack` memory, but can't access `Heap` memory (it is external thing to the program). Pointers can access `Heap` memory. Pointer is used to access external things.\n",
    "\n",
    "* Accessing Heap meory\n",
    "* Parameter passing\n",
    "* Accessing external resources (keyboard, mouse)\n",
    "\n",
    "![pointers](https://i.ibb.co/2jC883t/image.png)"
   ]
  },
  {
   "cell_type": "code",
   "execution_count": 10,
   "metadata": {},
   "outputs": [
    {
     "name": "stdout",
     "output_type": "stream",
     "text": [
      "10\n",
      "0x7f23628a2120\n",
      "10\n",
      "0x7f23628a2120"
     ]
    },
    {
     "data": {
      "text/plain": [
       "14"
      ]
     },
     "execution_count": 10,
     "metadata": {},
     "output_type": "execute_result"
    }
   ],
   "source": [
    "// initialize of variable\n",
    "int a = 10;\n",
    "\n",
    "// address or pointer variable\n",
    "int *p; // declare of pointer variable\n",
    "p = &a; // initialize of pointer variable\n",
    "\n",
    "printf(\"%d\\n\", a); // 10\n",
    "printf(\"%p\\n\", p); // a's memory location\n",
    "printf(\"%d\\n\", *p); // 10 (*p is also called dereferencing)\n",
    "printf(\"%p\", &a); // memory location of a"
   ]
  },
  {
   "cell_type": "markdown",
   "metadata": {},
   "source": [
    "### Acessing heap memory through pointer\n",
    "\n",
    "![accessing-heap](https://i.ibb.co/pXmMzCN/image.png)"
   ]
  },
  {
   "cell_type": "code",
   "execution_count": 11,
   "metadata": {},
   "outputs": [],
   "source": [
    "#include <stdlib.h>\n",
    "\n",
    "int *p, *pp;\n",
    "// C\n",
    "p = (int *)malloc(5 * sizeof(int));\n",
    "\n",
    "// C++\n",
    "pp = new int[5];"
   ]
  },
  {
   "cell_type": "markdown",
   "metadata": {},
   "source": [
    "## Reference (C++)\n",
    "\n",
    "Reference is an alias name of a variable, they both point on the same variable.\n",
    "\n",
    "![reference](https://i.ibb.co/6Pm9hsN/image.png)"
   ]
  },
  {
   "cell_type": "code",
   "execution_count": 12,
   "metadata": {},
   "outputs": [
    {
     "name": "stdout",
     "output_type": "stream",
     "text": [
      "a is 10, r is 10, p is 10\n",
      "r is 11\n",
      "a is 11"
     ]
    }
   ],
   "source": [
    "#include <iostream>\n",
    "using namespace std;\n",
    "\n",
    "int a = 10;\n",
    "int &r = a; // reference\n",
    "int *p = &a; // pointer\n",
    "\n",
    "cout << \"a is \" << a <<\", r is \" << r << \", p is \" << *p << \"\\n\";\n",
    "r += 1;\n",
    "cout << \"r is \" << r << \"\\n\";\n",
    "cout << \"a is \" << a;"
   ]
  },
  {
   "cell_type": "markdown",
   "metadata": {},
   "source": [
    "## Pointers to a structure"
   ]
  },
  {
   "cell_type": "code",
   "execution_count": 13,
   "metadata": {},
   "outputs": [
    {
     "name": "stdout",
     "output_type": "stream",
     "text": [
      "10"
     ]
    }
   ],
   "source": [
    "// pointer takes 4 bytes of memory\n",
    "\n",
    "struct Rectangle {\n",
    "    int length;\n",
    "    int breadth;\n",
    "};\n",
    "\n",
    "// static \n",
    "struct Rectangle rectangle = {10, 20};\n",
    "struct Rectangle *p = &rectangle;\n",
    "\n",
    "printf(\"%d\", p->length);"
   ]
  },
  {
   "cell_type": "code",
   "execution_count": 14,
   "metadata": {},
   "outputs": [
    {
     "name": "stdout",
     "output_type": "stream",
     "text": [
      "60"
     ]
    }
   ],
   "source": [
    "// dynamic\n",
    "struct Rectangle *p;\n",
    "p = (struct Rectangle *)malloc(sizeof(struct Rectangle));\n",
    "p -> length = 50;\n",
    "p -> breadth = 60;\n",
    "\n",
    "printf(\"%d\", p->breadth);"
   ]
  },
  {
   "cell_type": "markdown",
   "metadata": {},
   "source": [
    "## Functions\n",
    "\n",
    "function is a piece of code that performs a specfic task\n",
    "\n",
    "* Call by value\n",
    "    * value is copied to the parameter, any changes of copied variables won't be relfected to original variables.\n",
    "* Call by reference\n",
    "    * Doesn't take extra memory\n",
    "* Call by address\n",
    "    * it takes memory"
   ]
  },
  {
   "cell_type": "code",
   "execution_count": 15,
   "metadata": {},
   "outputs": [
    {
     "name": "stdout",
     "output_type": "stream",
     "text": [
      "Result is 30"
     ]
    }
   ],
   "source": [
    "int add (int a, int b) { // a,b are called parameters (formal parameters)\n",
    "    int c = a + b;\n",
    "    return c;\n",
    "}\n",
    "\n",
    "int x = 10;\n",
    "int y = 20;\n",
    "int z = add(x, y); // x,y are called arguments (actual parameters)\n",
    "printf(\"Result is %d\", z);"
   ]
  },
  {
   "cell_type": "markdown",
   "metadata": {},
   "source": [
    "### Call by value\n",
    "\n",
    "![](https://i.ibb.co/Htvph5S/image.png)"
   ]
  },
  {
   "cell_type": "code",
   "execution_count": 16,
   "metadata": {},
   "outputs": [
    {
     "name": "stdout",
     "output_type": "stream",
     "text": [
      "10 20"
     ]
    }
   ],
   "source": [
    "void swap(int x, int y) {\n",
    "    int temp;\n",
    "    temp = x;\n",
    "    x = y;\n",
    "    y = temp;\n",
    "}\n",
    "\n",
    "int a = 10, b = 20;\n",
    "swap(a, b);\n",
    "printf(\"%d %d\", a, b);"
   ]
  },
  {
   "cell_type": "markdown",
   "metadata": {},
   "source": [
    "### Call by address"
   ]
  },
  {
   "cell_type": "code",
   "execution_count": 17,
   "metadata": {},
   "outputs": [
    {
     "name": "stdout",
     "output_type": "stream",
     "text": [
      "20 10"
     ]
    }
   ],
   "source": [
    "void swap1(int *x, int *y) { // receiving\n",
    "    int temp;\n",
    "    temp = *x;\n",
    "    *x = *y;\n",
    "    *y = temp;\n",
    "}\n",
    "\n",
    "int a = 10, b = 20;\n",
    "swap1(&a, &b); // sending address\n",
    "printf(\"%d %d\", a, b);"
   ]
  },
  {
   "cell_type": "markdown",
   "metadata": {},
   "source": [
    "### Call by reference\n",
    "\n",
    "One function can't access to other function variables, but in call by reference `swap2` isn't another function. It is a part of `main` function. It is best suitable for small functions not for complex logical function\n",
    "\n",
    "![call-by-reference](https://i.ibb.co/B3XLLgB/image.png)"
   ]
  },
  {
   "cell_type": "code",
   "execution_count": 18,
   "metadata": {},
   "outputs": [
    {
     "name": "stdout",
     "output_type": "stream",
     "text": [
      "20 10"
     ]
    }
   ],
   "source": [
    "void swap2(int &x, int &y){\n",
    "    int temp;\n",
    "    temp = x;\n",
    "    x = y;\n",
    "    y = temp;\n",
    "}\n",
    "\n",
    "int a = 10, b = 20;\n",
    "swap2(a, b);\n",
    "cout << a << \" \" << b;"
   ]
  },
  {
   "cell_type": "markdown",
   "metadata": {},
   "source": [
    "### Array as a parameter\n",
    "\n",
    "Array is passed only `call by pointer`. So we can write it as `int A[]` or `int *A`. But `int *A` can point to anything, so it's better to use `int A[]`, while passing array."
   ]
  },
  {
   "cell_type": "code",
   "execution_count": 19,
   "metadata": {},
   "outputs": [
    {
     "name": "stdout",
     "output_type": "stream",
     "text": [
      "2 3 4 5 6 "
     ]
    }
   ],
   "source": [
    "void func(int A[], int n) {\n",
    "    for(int i = 0; i < n; i++) {\n",
    "        printf(\"%d \", A[i]);\n",
    "    }\n",
    "}\n",
    "\n",
    "int A[5] = {2, 3, 4, 5, 6};\n",
    "int n = 5;\n",
    "func(A, n);"
   ]
  },
  {
   "cell_type": "code",
   "execution_count": 20,
   "metadata": {},
   "outputs": [
    {
     "name": "stdout",
     "output_type": "stream",
     "text": [
      "25 3 4 5 6 "
     ]
    }
   ],
   "source": [
    "// it is also possible to modify the index value of arrays since it is called by pointer\n",
    "\n",
    "void func2(int *A, int n) {\n",
    "    A[0] = 25;\n",
    "}\n",
    "\n",
    "int A[5] = {2, 3, 4, 5, 6};\n",
    "int n = 5;\n",
    "func2(A, n);\n",
    "\n",
    "for (int i = 0; i < 5; i++){\n",
    "    printf(\"%d \", A[i]);\n",
    "}"
   ]
  },
  {
   "cell_type": "markdown",
   "metadata": {},
   "source": [
    "### Return array from Function\n",
    "\n",
    "![return-array](https://i.ibb.co/3vg2s5y/image.png)"
   ]
  },
  {
   "cell_type": "code",
   "execution_count": 21,
   "metadata": {},
   "outputs": [
    {
     "name": "stdout",
     "output_type": "stream",
     "text": [
      "5 2 99 8 100 "
     ]
    }
   ],
   "source": [
    "int *func3 (int n) {\n",
    "    int *arrays = new int[n];\n",
    "    return arrays;\n",
    "}\n",
    "\n",
    "int *p = func3(5);\n",
    "p[0] = 5;\n",
    "p[1] = 2;\n",
    "p[3] = 8;\n",
    "p[2] = 99;\n",
    "p[4] = 100;\n",
    "\n",
    "for (int i = 0; i < 5; i++) {\n",
    "    printf(\"%d \", p[i]);\n",
    "}"
   ]
  },
  {
   "cell_type": "markdown",
   "metadata": {},
   "source": [
    "### Struct as a Parameter\n",
    "\n",
    "We can pass `struct` as a parameter in 3 different ways. \n",
    "\n",
    "* call by value\n",
    "* call by address\n",
    "* call by reference (c++)"
   ]
  },
  {
   "cell_type": "code",
   "execution_count": 22,
   "metadata": {},
   "outputs": [],
   "source": [
    "struct Rectangle {\n",
    "    int length;\n",
    "    int breadth;\n",
    "};"
   ]
  },
  {
   "cell_type": "code",
   "execution_count": 23,
   "metadata": {},
   "outputs": [],
   "source": [
    "void constructor(struct Rectangle &r, int length, int breadth){\n",
    "    r.length = length;\n",
    "    r.breadth = breadth;\n",
    "}"
   ]
  },
  {
   "cell_type": "code",
   "execution_count": 24,
   "metadata": {},
   "outputs": [],
   "source": [
    "int area(struct Rectangle r) {\n",
    "    return r.length * r.breadth;\n",
    "}"
   ]
  },
  {
   "cell_type": "code",
   "execution_count": 25,
   "metadata": {},
   "outputs": [
    {
     "name": "stdout",
     "output_type": "stream",
     "text": [
      "Area is 50\n",
      "55 5"
     ]
    }
   ],
   "source": [
    "void changeLength(struct Rectangle *r, int length) {\n",
    "    r -> length = length;\n",
    "}\n",
    "\n",
    "struct Rectangle r1;\n",
    "constructor(r1, 10, 5);\n",
    "int rarea = area(r1);\n",
    "changeLength(&r1, 55);\n",
    "\n",
    "printf(\"Area is %d\\n\", rarea);\n",
    "printf(\"%d %d\", r1.length, r1.breadth);"
   ]
  },
  {
   "cell_type": "markdown",
   "metadata": {},
   "source": [
    "## Class and Constructor"
   ]
  },
  {
   "cell_type": "code",
   "execution_count": 26,
   "metadata": {},
   "outputs": [
    {
     "name": "stdout",
     "output_type": "stream",
     "text": [
      "Hello World"
     ]
    }
   ],
   "source": [
    "cout << \"Hello World\";"
   ]
  },
  {
   "cell_type": "code",
   "execution_count": 27,
   "metadata": {},
   "outputs": [],
   "source": [
    "class Rectangle2 {\n",
    "    private:\n",
    "        int length;\n",
    "        int breadth;\n",
    "    \n",
    "    public:\n",
    "        Rectangle2(int l, int b) {\n",
    "            length = l;\n",
    "            breadth = b;\n",
    "        }\n",
    "        \n",
    "        int area() {\n",
    "            return length*breadth;\n",
    "        }\n",
    "        \n",
    "        void changeLength(int l) {\n",
    "            length = l;\n",
    "        }\n",
    "    \n",
    "        int getLength(){\n",
    "            return length;\n",
    "        }\n",
    "    \n",
    "        int getBreadth() {\n",
    "            return breadth;\n",
    "        }\n",
    "}"
   ]
  },
  {
   "cell_type": "code",
   "execution_count": 28,
   "metadata": {},
   "outputs": [
    {
     "name": "stdout",
     "output_type": "stream",
     "text": [
      "Area is 50\n",
      "55 5"
     ]
    }
   ],
   "source": [
    "Rectangle2 r(10, 5);\n",
    "\n",
    "int rarea = r.area();\n",
    "r.changeLength(55);\n",
    "\n",
    "cout << \"Area is \" << rarea << \"\\n\";\n",
    "cout << r.getLength() << \" \" << r.getBreadth();"
   ]
  }
 ],
 "metadata": {
  "kernelspec": {
   "display_name": "C++11",
   "language": "C++11",
   "name": "xeus-cling-cpp11"
  },
  "language_info": {
   "codemirror_mode": "text/x-c++src",
   "file_extension": ".cpp",
   "mimetype": "text/x-c++src",
   "name": "c++",
   "version": "11"
  },
  "latex_envs": {
   "LaTeX_envs_menu_present": true,
   "autoclose": false,
   "autocomplete": true,
   "bibliofile": "biblio.bib",
   "cite_by": "apalike",
   "current_citInitial": 1,
   "eqLabelWithNumbers": true,
   "eqNumInitial": 1,
   "hotkeys": {
    "equation": "Ctrl-E",
    "itemize": "Ctrl-I"
   },
   "labels_anchors": false,
   "latex_user_defs": false,
   "report_style_numbering": false,
   "user_envs_cfg": false
  }
 },
 "nbformat": 4,
 "nbformat_minor": 4
}
